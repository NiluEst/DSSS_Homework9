{
  "nbformat": 4,
  "nbformat_minor": 0,
  "metadata": {
    "colab": {
      "provenance": [],
      "gpuType": "T4",
      "authorship_tag": "ABX9TyPkm5gKxK6HTWwdn0xBDxoW",
      "include_colab_link": true
    },
    "kernelspec": {
      "name": "python3",
      "display_name": "Python 3"
    },
    "language_info": {
      "name": "python"
    },
    "accelerator": "GPU"
  },
  "cells": [
    {
      "cell_type": "markdown",
      "metadata": {
        "id": "view-in-github",
        "colab_type": "text"
      },
      "source": [
        "<a href=\"https://colab.research.google.com/github/NiluEst/DSSS_Homework9/blob/main/Ex9.ipynb\" target=\"_parent\"><img src=\"https://colab.research.google.com/assets/colab-badge.svg\" alt=\"Open In Colab\"/></a>"
      ]
    },
    {
      "cell_type": "code",
      "source": [
        "%pip install python-telegram-bot\n",
        "%pip install git+https://github.com/huggingface/transformers.git\n",
        "%pip install accelerate\n",
        "%pip install torch"
      ],
      "metadata": {
        "id": "oP-GLCBlCwDq"
      },
      "execution_count": null,
      "outputs": []
    },
    {
      "cell_type": "code",
      "source": [
        "!python --version\n",
        "!pip install --upgrade python-telegram-bot\n"
      ],
      "metadata": {
        "id": "iItgeTunI2CZ"
      },
      "execution_count": null,
      "outputs": []
    },
    {
      "cell_type": "code",
      "source": [
        "import nest_asyncio\n",
        "from google.colab import userdata\n",
        "from telegram import Update\n",
        "from telegram.ext import Application, CommandHandler, MessageHandler, filters\n",
        "import torch\n",
        "from transformers import pipeline"
      ],
      "metadata": {
        "id": "tf9X2epHJwot"
      },
      "execution_count": 4,
      "outputs": []
    },
    {
      "cell_type": "code",
      "execution_count": null,
      "metadata": {
        "id": "y6opYwvn_Y6k"
      },
      "outputs": [],
      "source": [
        "nest_asyncio.apply()\n",
        "\n",
        "Telegram_API = userdata.get('Telegram_API')\n",
        "\n",
        "generator = pipeline('text-generation', model=\"TinyLlama/TinyLlama-1.1B-Chat-v1.0\", torch_dtype=torch.bfloat16, device_map=\"auto\")\n",
        "\n",
        "Telegram_API = userdata.get('Telegram_API')\n",
        "\n",
        "generator = pipeline('text-generation', model=\"TinyLlama/TinyLlama-1.1B-Chat-v1.0\", torch_dtype=torch.bfloat16, device_map=\"auto\")\n",
        "\n",
        "\n",
        "async def generate_text(update: Update, context) -> None:\n",
        "    user_message = update.message.text\n",
        "    prompt = f\"This is a chat between a smart chatbot who knows everything about animals and a user. The user asks: {user_message}\\nChatbot:\"\n",
        "    generated_text = generator(prompt, max_length=300, num_return_sequences=1)[0]['generated_text']\n",
        "\n",
        "    chatbot_reply = generated_text.split(\"Chatbot:\")[-1].strip()\n",
        "    final_reply = chatbot_reply.split(\"User:\")[0].strip()\n",
        "    await update.message.reply_text(final_reply)\n",
        "\n",
        "async def start(update: Update, context) -> None:\n",
        "    await update.message.reply_text('Hello! I am your chatbot. How can I help you?')\n",
        "\n",
        "def main():\n",
        "    application = Application.builder().token(Telegram_API).build()\n",
        "    application.add_handler(CommandHandler(\"start\", start))\n",
        "    application.add_handler(MessageHandler(filters.TEXT & ~filters.COMMAND, generate_text))\n",
        "\n",
        "    application.run_polling()\n",
        "\n",
        "\n",
        "if __name__ == '__main__':\n",
        "    main()\n"
      ]
    }
  ]
}