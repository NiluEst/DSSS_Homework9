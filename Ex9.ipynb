{
  "nbformat": 4,
  "nbformat_minor": 0,
  "metadata": {
    "colab": {
      "provenance": [],
      "authorship_tag": "ABX9TyMHmth5SpTXFxjvXRyGm/By",
      "include_colab_link": true
    },
    "kernelspec": {
      "name": "python3",
      "display_name": "Python 3"
    },
    "language_info": {
      "name": "python"
    }
  },
  "cells": [
    {
      "cell_type": "markdown",
      "metadata": {
        "id": "view-in-github",
        "colab_type": "text"
      },
      "source": [
        "<a href=\"https://colab.research.google.com/github/NiluEst/DSSS_Homework9/blob/main/Ex9.ipynb\" target=\"_parent\"><img src=\"https://colab.research.google.com/assets/colab-badge.svg\" alt=\"Open In Colab\"/></a>"
      ]
    },
    {
      "cell_type": "code",
      "execution_count": null,
      "metadata": {
        "id": "y6opYwvn_Y6k"
      },
      "outputs": [],
      "source": [
        "#Create chatbot with Telegram BotFather\n",
        "\n",
        "from telegram import Update\n",
        "from telegram.ext import Application, CommandHandler, MessageHandler, filters\n",
        "\n",
        "\n",
        "#Use LLM to generate text\n",
        "import torch\n",
        "from transformers import pipeline\n",
        "\n",
        "generator = pipeline('text-generation', model=\"TinyLlama/TinyLlama-1.1B-Chat-v1.0\", torch_dtype=torch.bfloat16, device_map=\"auto\")\n",
        "\n",
        "async def generate_text(update: Update, context) -> None:\n",
        "    user_message = update.message.text\n",
        "    messages = [\n",
        "        {\n",
        "            \"role\": \"system\",\n",
        "            \"content\": \"You are a friendly chatbot who always responds in the style of a pirate\",\n",
        "        },\n",
        "        {\"role\": \"user\", \"content\": \"Can you tell me something about squirrels?\"},\n",
        "    ]\n",
        "    prompt = generator.tokenizer.apply_chat_template(messages, tokenize=False, add_generation_prompt=True)\n",
        "    outputs = generator(prompt, max_new_tokens=256, do_sample=True, temperature=0.7, top_k=50, top_p=0.95)\n",
        "    #do_sample=True sorgt dafür, dass das Modell nicht immer das wahrscheinlichste Wort auswählt, sondern auch mal ein zufälliges\n",
        "    #temperature=0.7: nahe 0: konservativ, nahe 1: kreativ\n",
        "    #top_k=50: Anzahl der Wörter, die in die Auswahl einbezogen werden\n",
        "    #top_p=0.95: Wahrscheinlichkeit, dass ein Wort ausgewählt wird\n",
        "    print(outputs[0][\"generated_text\"])\n",
        "\n",
        "    await update.message.reply_text(outputs[0][\"generated_text\"])\n",
        "\n",
        "\n",
        "async def start(update: Update, context) -> None:\n",
        "    await update.message.reply_text('Hello! I am your bot. How can I help you?')\n",
        "\n",
        "\n",
        "def main():\n",
        "    application = Application.builder().token(Telegram_API).build()\n",
        "    application.add_handler(CommandHandler(\"start\", start))\n",
        "    application.add_handler(MessageHandler(filters.TEXT & ~filters.COMMAND, generate_text))\n",
        "    application.run_polling()\n",
        "\n",
        "if __name__ == '__main__':\n",
        "    main()\n",
        "\n",
        "\n"
      ]
    }
  ]
}